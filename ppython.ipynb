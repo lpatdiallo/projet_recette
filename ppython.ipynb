{
 "cells": [
  {
   "attachments": {},
   "cell_type": "markdown",
   "metadata": {},
   "source": [
    "### Projet d'analyse de données de l'empreinte écologique de recettes\n",
    "### Contexte\n",
    "Vous travaillez en tant qu'analyste de données pour un restaurateur souhaitant proposer une nouvelle carte éco-responsable. L'objectif est de permettre au restaurateur de mieux comprendre l'impact écologique de ses recettes et les ingrédients qui ont la plus forte empreinte environnementale.\n",
    "### Le Projet\n",
    "En utilisant les données d'analyse en cycle de vie (ACV) de l'empreinte écologique des aliments fournies sur le site d'Agribalyse, votre mission consiste à concevoir et développer une solution permettant de visualiser l'impact écologique d'une recette. L'utilisateur fournira simplement le nom d'une recette, et votre solution devra trouver la liste des ingrédients et leurs quantités associées. De plus, vous devrez réaliser une analyse approfondie de l'impact écologique de certains aliments pour mieux comprendre les facteurs clés contribuant à cet impact.\n",
    "### Les livrables\n",
    "Vous devrez mettre en ligne les différents livrables via un repository sur GitHub. Le repository devra contenir :\n",
    "\n",
    "- Un README résumant le projet, son contexte, les objectifs, la méthodologie utilisée et les résultats obtenus.\n",
    "Les données brutes issues d'Agribalyse.\n",
    "- Un notebook rassemblant les différents nettoyage de ces données. \n",
    "- Les fichiers de données \"nettoyées\" utilisés pour votre solution et vos analyses, ainsi que la documentation décrivant les différentes variables utilisées.. \n",
    "- Un notebook présentant vos analyses et visualisations graphiques permettant de mieux comprendre l'impact écologique des aliments et d'identifier les étapes clés contribuant à cet impact.\n",
    "- Un fichier python contenant votre fonction principale, permettant d'obtenir l'impact écologique des ingrédients composant une recette.\n",
    "- Un notebook qui appelle cette fonction et qui présente via des visualisation l'empreinte écologique d'une recette.\n",
    "### Les petits tuyaux\n",
    "- Pour les données Agribalyses, vous pouvez partir du jeu de données des produits alimentaire.\n",
    "- Une API présentant les fonctionnalités à développer est disponible. Vous pouvez consulter la documentation via ce lien : http://162.19.108.77:8000/docs . Comme de nombreuses API, vous devrez vous munir d'un token pour certaines requêtes qui seront limitées en nombre.\n",
    "### La stack technologique\n",
    "Pour ce projet :\n",
    "- vous travaillerez en local sur votre machine via l'éditeur de texte Visual Studio Code.\n",
    "- vous mettrez en place des bonnes pratiques de code en travaillant sous un environnement virtuel pour la gestion de vos dépendances\n",
    "- vous utiliserez git pour gérer le versionning de votre projet.\n",
    "### Déroulement du projet\n",
    "Vous travaillerez en groupe de 3-4 étudiants. Durant ce projet vous devrez faire preuve d'autonomie en utilisant les différents supports de documentation à votre disposition (cours, documentation officielle, stackoverflow). L'utilisation de chatGPT n'est pas exclue, mais utilisez cette ressource pour vous aider à comprendre comment fonctionne certaines notions ou fonctions, davantage que pour lui demander de créer le code à votre place. Si un blocage apparaît, n'hésitez pas à me demander un coup de pouce :)\n"
   ]
  },
  {
   "attachments": {},
   "cell_type": "markdown",
   "metadata": {},
   "source": []
  },
  {
   "attachments": {},
   "cell_type": "markdown",
   "metadata": {},
   "source": [
    "### Installer les librairies utiles"
   ]
  },
  {
   "cell_type": "code",
   "execution_count": 17,
   "metadata": {},
   "outputs": [
    {
     "ename": "SyntaxError",
     "evalue": "invalid syntax (81248604.py, line 2)",
     "output_type": "error",
     "traceback": [
      "\u001b[1;36m  Cell \u001b[1;32mIn[17], line 2\u001b[1;36m\u001b[0m\n\u001b[1;33m    pip install numpy\u001b[0m\n\u001b[1;37m        ^\u001b[0m\n\u001b[1;31mSyntaxError\u001b[0m\u001b[1;31m:\u001b[0m invalid syntax\n"
     ]
    }
   ],
   "source": [
    "# La librairie numpy\n",
    "pip install numpy\n",
    "\n",
    "# La librairie pandas\n",
    "pip install pandas\n",
    "\n",
    "# La librairie plotly\n",
    "pip install plotly"
   ]
  },
  {
   "cell_type": "code",
   "execution_count": null,
   "metadata": {},
   "outputs": [],
   "source": [
    "import pandas as pd\n",
    "import numpy as np"
   ]
  },
  {
   "cell_type": "code",
   "execution_count": null,
   "metadata": {},
   "outputs": [],
   "source": []
  }
 ],
 "metadata": {
  "kernelspec": {
   "display_name": ".venv",
   "language": "python",
   "name": "python3"
  },
  "language_info": {
   "codemirror_mode": {
    "name": "ipython",
    "version": 3
   },
   "file_extension": ".py",
   "mimetype": "text/x-python",
   "name": "python",
   "nbconvert_exporter": "python",
   "pygments_lexer": "ipython3",
   "version": "3.11.3"
  },
  "orig_nbformat": 4
 },
 "nbformat": 4,
 "nbformat_minor": 2
}
